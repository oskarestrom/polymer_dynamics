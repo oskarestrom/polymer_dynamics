{
 "cells": [
  {
   "cell_type": "markdown",
   "id": "cc319798",
   "metadata": {
    "toc": true
   },
   "source": [
    "<h1>Table of Contents<span class=\"tocSkip\"></span></h1>\n",
    "<div class=\"toc\"><ul class=\"toc-item\"><li><span><a href=\"#More-columns\" data-toc-modified-id=\"More-columns-1\"><span class=\"toc-item-num\">1&nbsp;&nbsp;</span>More columns</a></span></li></ul></div>"
   ]
  },
  {
   "cell_type": "code",
   "execution_count": 2,
   "id": "4c35481b",
   "metadata": {
    "ExecuteTime": {
     "end_time": "2022-06-14T07:46:06.791084Z",
     "start_time": "2022-06-14T07:46:01.072112Z"
    }
   },
   "outputs": [
    {
     "data": {
      "text/plain": [
       "<module 'functions_wave_occurrence' from 'C:\\\\Users\\\\os4875st\\\\Dropbox\\\\PhD Tegenfeldt\\\\.py\\\\py_DNA_waves\\\\functions_wave_occurrence.py'>"
      ]
     },
     "execution_count": 2,
     "metadata": {},
     "output_type": "execute_result"
    }
   ],
   "source": [
    "#System modules\n",
    "import os, sys\n",
    "import inspect\n",
    "currentdir = os.path.dirname(os.path.abspath(inspect.getfile(inspect.currentframe())))\n",
    "parentdir = os.path.dirname(currentdir)\n",
    "sys.path.append(parentdir)\n",
    "parentdir2 = os.path.dirname(os.path.dirname(currentdir))\n",
    "sys.path.append(parentdir2)\n",
    "# sys.path.append(r'C:\\Users\\os4875st\\.py\\py_DNA_waves')\n",
    "sys.path.append(r'C:\\Users\\os4875st\\Dropbox\\PhD Tegenfeldt\\.py\\py_DNA_waves')\n",
    "\n",
    "#Public modules\n",
    "import matplotlib.pyplot as plt\n",
    "import math\n",
    "import pandas as pd\n",
    "import numpy as np\n",
    "\n",
    "#Personal modules\n",
    "import dna_functions as dn\n",
    "import functions_wave_occurrence as wo\n",
    "#Reload modules\n",
    "import importlib\n",
    "importlib.reload(dn)\n",
    "importlib.reload(wo)"
   ]
  },
  {
   "cell_type": "code",
   "execution_count": 4,
   "id": "c2e24b30",
   "metadata": {
    "ExecuteTime": {
     "end_time": "2022-04-11T14:20:05.888181Z",
     "start_time": "2022-04-11T14:20:05.648136Z"
    }
   },
   "outputs": [
    {
     "name": "stdout",
     "output_type": "stream",
     "text": [
      "Created a Data frame with length 210\n"
     ]
    },
    {
     "data": {
      "text/html": [
       "<div>\n",
       "<style scoped>\n",
       "    .dataframe tbody tr th:only-of-type {\n",
       "        vertical-align: middle;\n",
       "    }\n",
       "\n",
       "    .dataframe tbody tr th {\n",
       "        vertical-align: top;\n",
       "    }\n",
       "\n",
       "    .dataframe thead th {\n",
       "        text-align: right;\n",
       "    }\n",
       "</style>\n",
       "<table border=\"1\" class=\"dataframe\">\n",
       "  <thead>\n",
       "    <tr style=\"text-align: right;\">\n",
       "      <th></th>\n",
       "      <th>N_bp</th>\n",
       "      <th>conc_DNA</th>\n",
       "      <th>salt</th>\n",
       "      <th>I</th>\n",
       "      <th>R_g_T23C_Flory</th>\n",
       "      <th>tau_zimm_low_c</th>\n",
       "      <th>c_overlap_T23C_Flory</th>\n",
       "      <th>C_ratio_Flory</th>\n",
       "    </tr>\n",
       "  </thead>\n",
       "  <tbody>\n",
       "    <tr>\n",
       "      <th>0</th>\n",
       "      <td>1000</td>\n",
       "      <td>422</td>\n",
       "      <td>5x TE, 3% BME</td>\n",
       "      <td>0.0436</td>\n",
       "      <td>0.05</td>\n",
       "      <td>0.00219</td>\n",
       "      <td>2.26e+03</td>\n",
       "      <td>0.186</td>\n",
       "    </tr>\n",
       "    <tr>\n",
       "      <th>1</th>\n",
       "      <td>5000</td>\n",
       "      <td>422</td>\n",
       "      <td>5x TE, 3% BME</td>\n",
       "      <td>0.0436</td>\n",
       "      <td>0.12</td>\n",
       "      <td>0.0374</td>\n",
       "      <td>663</td>\n",
       "      <td>0.637</td>\n",
       "    </tr>\n",
       "    <tr>\n",
       "      <th>2</th>\n",
       "      <td>10000</td>\n",
       "      <td>422</td>\n",
       "      <td>5x TE, 3% BME</td>\n",
       "      <td>0.0436</td>\n",
       "      <td>0.19</td>\n",
       "      <td>0.127</td>\n",
       "      <td>390</td>\n",
       "      <td>1.08</td>\n",
       "    </tr>\n",
       "    <tr>\n",
       "      <th>3</th>\n",
       "      <td>20000</td>\n",
       "      <td>422</td>\n",
       "      <td>5x TE, 3% BME</td>\n",
       "      <td>0.0436</td>\n",
       "      <td>0.28</td>\n",
       "      <td>0.431</td>\n",
       "      <td>230</td>\n",
       "      <td>1.83</td>\n",
       "    </tr>\n",
       "    <tr>\n",
       "      <th>4</th>\n",
       "      <td>48502</td>\n",
       "      <td>422</td>\n",
       "      <td>5x TE, 3% BME</td>\n",
       "      <td>0.0436</td>\n",
       "      <td>0.47</td>\n",
       "      <td>2.05</td>\n",
       "      <td>117</td>\n",
       "      <td>3.61</td>\n",
       "    </tr>\n",
       "    <tr>\n",
       "      <th>5</th>\n",
       "      <td>165600</td>\n",
       "      <td>422</td>\n",
       "      <td>5x TE, 3% BME</td>\n",
       "      <td>0.0436</td>\n",
       "      <td>0.98</td>\n",
       "      <td>17.9</td>\n",
       "      <td>45.8</td>\n",
       "      <td>9.2</td>\n",
       "    </tr>\n",
       "  </tbody>\n",
       "</table>\n",
       "</div>"
      ],
      "text/plain": [
       "     N_bp  conc_DNA           salt      I  R_g_T23C_Flory  tau_zimm_low_c  \\\n",
       "0    1000       422  5x TE, 3% BME 0.0436            0.05         0.00219   \n",
       "1    5000       422  5x TE, 3% BME 0.0436            0.12          0.0374   \n",
       "2   10000       422  5x TE, 3% BME 0.0436            0.19           0.127   \n",
       "3   20000       422  5x TE, 3% BME 0.0436            0.28           0.431   \n",
       "4   48502       422  5x TE, 3% BME 0.0436            0.47            2.05   \n",
       "5  165600       422  5x TE, 3% BME 0.0436            0.98            17.9   \n",
       "\n",
       "   c_overlap_T23C_Flory  C_ratio_Flory  \n",
       "0              2.26e+03          0.186  \n",
       "1                   663          0.637  \n",
       "2                   390           1.08  \n",
       "3                   230           1.83  \n",
       "4                   117           3.61  \n",
       "5                  45.8            9.2  "
      ]
     },
     "execution_count": 4,
     "metadata": {},
     "output_type": "execute_result"
    }
   ],
   "source": [
    "importlib.reload(dn)\n",
    "lengths = np.array([1000,5000,10000,20000,48502,165600])\n",
    "n = len(lengths)\n",
    "C_list = np.array([422]*n)\n",
    "\n",
    "df = dn.create_DNA_df(N_bp=lengths, C_list=C_list)\n",
    "\n",
    "df_L = df[(df['staining'] == '1:200') & (df['salt'] == '5x TE, 3% BME')]\n",
    "df_L = df_L.reset_index()\n",
    "# indices = [0,1,2,3,4,5,22,10,28]\n",
    "# df_lambda = df_lambda.iloc[indices]\n",
    "\n",
    "pd.set_option('display.float_format', lambda x: '%.3g' % x)\n",
    "df_L[['N_bp','conc_DNA','salt','I', 'R_g_T23C_Flory','tau_zimm_low_c','c_overlap_T23C_Flory','C_ratio_Flory']]"
   ]
  },
  {
   "cell_type": "markdown",
   "id": "10b4132d",
   "metadata": {},
   "source": [
    "### More columns"
   ]
  },
  {
   "cell_type": "code",
   "execution_count": 7,
   "id": "97ea0205",
   "metadata": {
    "ExecuteTime": {
     "end_time": "2022-04-11T14:19:35.189138Z",
     "start_time": "2022-04-11T14:19:35.157132Z"
    }
   },
   "outputs": [
    {
     "data": {
      "text/html": [
       "<div>\n",
       "<style scoped>\n",
       "    .dataframe tbody tr th:only-of-type {\n",
       "        vertical-align: middle;\n",
       "    }\n",
       "\n",
       "    .dataframe tbody tr th {\n",
       "        vertical-align: top;\n",
       "    }\n",
       "\n",
       "    .dataframe thead th {\n",
       "        text-align: right;\n",
       "    }\n",
       "</style>\n",
       "<table border=\"1\" class=\"dataframe\">\n",
       "  <thead>\n",
       "    <tr style=\"text-align: right;\">\n",
       "      <th></th>\n",
       "      <th>N_bp</th>\n",
       "      <th>conc_DNA</th>\n",
       "      <th>salt</th>\n",
       "      <th>I</th>\n",
       "      <th>l_p</th>\n",
       "      <th>w_eff_T23C</th>\n",
       "      <th>R_e_T23C_Flory</th>\n",
       "      <th>R_g_T23C_Flory</th>\n",
       "      <th>c_overlap_T23C_Flory</th>\n",
       "      <th>tau_zimm_low_c</th>\n",
       "      <th>C_ratio_Flory</th>\n",
       "    </tr>\n",
       "  </thead>\n",
       "  <tbody>\n",
       "    <tr>\n",
       "      <th>0</th>\n",
       "      <td>1000</td>\n",
       "      <td>422</td>\n",
       "      <td>5x TE, 3% BME</td>\n",
       "      <td>0.0436</td>\n",
       "      <td>50.7</td>\n",
       "      <td>4.63</td>\n",
       "      <td>0.12</td>\n",
       "      <td>0.05</td>\n",
       "      <td>2.26e+03</td>\n",
       "      <td>0.00219</td>\n",
       "      <td>0.186</td>\n",
       "    </tr>\n",
       "    <tr>\n",
       "      <th>1</th>\n",
       "      <td>5000</td>\n",
       "      <td>422</td>\n",
       "      <td>5x TE, 3% BME</td>\n",
       "      <td>0.0436</td>\n",
       "      <td>50.7</td>\n",
       "      <td>4.63</td>\n",
       "      <td>0.31</td>\n",
       "      <td>0.12</td>\n",
       "      <td>663</td>\n",
       "      <td>0.0374</td>\n",
       "      <td>0.637</td>\n",
       "    </tr>\n",
       "    <tr>\n",
       "      <th>2</th>\n",
       "      <td>10000</td>\n",
       "      <td>422</td>\n",
       "      <td>5x TE, 3% BME</td>\n",
       "      <td>0.0436</td>\n",
       "      <td>50.7</td>\n",
       "      <td>4.63</td>\n",
       "      <td>0.46</td>\n",
       "      <td>0.19</td>\n",
       "      <td>390</td>\n",
       "      <td>0.127</td>\n",
       "      <td>1.08</td>\n",
       "    </tr>\n",
       "    <tr>\n",
       "      <th>3</th>\n",
       "      <td>20000</td>\n",
       "      <td>422</td>\n",
       "      <td>5x TE, 3% BME</td>\n",
       "      <td>0.0436</td>\n",
       "      <td>50.7</td>\n",
       "      <td>4.63</td>\n",
       "      <td>0.69</td>\n",
       "      <td>0.28</td>\n",
       "      <td>230</td>\n",
       "      <td>0.431</td>\n",
       "      <td>1.83</td>\n",
       "    </tr>\n",
       "    <tr>\n",
       "      <th>4</th>\n",
       "      <td>48502</td>\n",
       "      <td>422</td>\n",
       "      <td>5x TE, 3% BME</td>\n",
       "      <td>0.0436</td>\n",
       "      <td>50.7</td>\n",
       "      <td>4.63</td>\n",
       "      <td>1.16</td>\n",
       "      <td>0.47</td>\n",
       "      <td>117</td>\n",
       "      <td>2.05</td>\n",
       "      <td>3.61</td>\n",
       "    </tr>\n",
       "    <tr>\n",
       "      <th>5</th>\n",
       "      <td>165600</td>\n",
       "      <td>422</td>\n",
       "      <td>5x TE, 3% BME</td>\n",
       "      <td>0.0436</td>\n",
       "      <td>50.7</td>\n",
       "      <td>4.63</td>\n",
       "      <td>2.39</td>\n",
       "      <td>0.98</td>\n",
       "      <td>45.8</td>\n",
       "      <td>17.9</td>\n",
       "      <td>9.2</td>\n",
       "    </tr>\n",
       "  </tbody>\n",
       "</table>\n",
       "</div>"
      ],
      "text/plain": [
       "     N_bp  conc_DNA           salt      I  l_p  w_eff_T23C  R_e_T23C_Flory  \\\n",
       "0    1000       422  5x TE, 3% BME 0.0436 50.7        4.63            0.12   \n",
       "1    5000       422  5x TE, 3% BME 0.0436 50.7        4.63            0.31   \n",
       "2   10000       422  5x TE, 3% BME 0.0436 50.7        4.63            0.46   \n",
       "3   20000       422  5x TE, 3% BME 0.0436 50.7        4.63            0.69   \n",
       "4   48502       422  5x TE, 3% BME 0.0436 50.7        4.63            1.16   \n",
       "5  165600       422  5x TE, 3% BME 0.0436 50.7        4.63            2.39   \n",
       "\n",
       "   R_g_T23C_Flory  c_overlap_T23C_Flory  tau_zimm_low_c  C_ratio_Flory  \n",
       "0            0.05              2.26e+03         0.00219          0.186  \n",
       "1            0.12                   663          0.0374          0.637  \n",
       "2            0.19                   390           0.127           1.08  \n",
       "3            0.28                   230           0.431           1.83  \n",
       "4            0.47                   117            2.05           3.61  \n",
       "5            0.98                  45.8            17.9            9.2  "
      ]
     },
     "execution_count": 7,
     "metadata": {},
     "output_type": "execute_result"
    }
   ],
   "source": [
    "df_L[['N_bp','conc_DNA','salt','I', 'l_p','w_eff_T23C','R_e_T23C_Flory','R_g_T23C_Flory','c_overlap_T23C_Flory', 'tau_zimm_low_c','C_ratio_Flory']]"
   ]
  }
 ],
 "metadata": {
  "hide_input": false,
  "kernelspec": {
   "display_name": "base",
   "language": "python",
   "name": "python3"
  },
  "language_info": {
   "codemirror_mode": {
    "name": "ipython",
    "version": 3
   },
   "file_extension": ".py",
   "mimetype": "text/x-python",
   "name": "python",
   "nbconvert_exporter": "python",
   "pygments_lexer": "ipython3",
   "version": "3.9.13 (main, Aug 25 2022, 23:51:50) [MSC v.1916 64 bit (AMD64)]"
  },
  "toc": {
   "base_numbering": 1,
   "nav_menu": {},
   "number_sections": true,
   "sideBar": true,
   "skip_h1_title": true,
   "title_cell": "Table of Contents",
   "title_sidebar": "Contents",
   "toc_cell": true,
   "toc_position": {},
   "toc_section_display": true,
   "toc_window_display": false
  },
  "varInspector": {
   "cols": {
    "lenName": 16,
    "lenType": 16,
    "lenVar": 40
   },
   "kernels_config": {
    "python": {
     "delete_cmd_postfix": "",
     "delete_cmd_prefix": "del ",
     "library": "var_list.py",
     "varRefreshCmd": "print(var_dic_list())"
    },
    "r": {
     "delete_cmd_postfix": ") ",
     "delete_cmd_prefix": "rm(",
     "library": "var_list.r",
     "varRefreshCmd": "cat(var_dic_list()) "
    }
   },
   "types_to_exclude": [
    "module",
    "function",
    "builtin_function_or_method",
    "instance",
    "_Feature"
   ],
   "window_display": false
  },
  "vscode": {
   "interpreter": {
    "hash": "e03fd57d288e1dbbcd6d9ae14bbbf6cdbf7668b552f8e74946be5b01202e6a46"
   }
  }
 },
 "nbformat": 4,
 "nbformat_minor": 5
}
