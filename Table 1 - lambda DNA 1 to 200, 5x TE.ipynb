{
 "cells": [
  {
   "cell_type": "markdown",
   "id": "28c8fbac",
   "metadata": {
    "toc": true
   },
   "source": [
    "<h1>Table of Contents<span class=\"tocSkip\"></span></h1>\n",
    "<div class=\"toc\"><ul class=\"toc-item\"><li><span><a href=\"#Lambda-DNA-without-BME,-staining-1:200\" data-toc-modified-id=\"Lambda-DNA-without-BME,-staining-1:200-1\"><span class=\"toc-item-num\">1&nbsp;&nbsp;</span>Lambda DNA without BME, staining 1:200</a></span></li></ul></div>"
   ]
  },
  {
   "cell_type": "code",
   "execution_count": 11,
   "id": "0ddde80f",
   "metadata": {
    "ExecuteTime": {
     "end_time": "2022-11-09T12:58:49.083630Z",
     "start_time": "2022-11-09T12:58:49.064631Z"
    }
   },
   "outputs": [],
   "source": [
    "#System modules\n",
    "import os, sys\n",
    "import inspect\n",
    "currentdir = os.path.dirname(os.path.abspath(inspect.getfile(inspect.currentframe())))\n",
    "parentdir = os.path.dirname(currentdir)\n",
    "sys.path.append(parentdir)\n",
    "parentdir2 = os.path.dirname(os.path.dirname(currentdir))\n",
    "sys.path.append(parentdir2)\n",
    "sys.path.append(r'C:\\Users\\os4875st\\.py\\py_DNA_waves')\n",
    "\n",
    "#Public modules\n",
    "import matplotlib.pyplot as plt\n",
    "import math\n",
    "import pandas as pd\n",
    "import numpy as np\n",
    "\n",
    "#Personal modules\n",
    "import dna_functions as dn\n",
    "\n",
    "#Reload modules\n",
    "import importlib"
   ]
  },
  {
   "cell_type": "code",
   "execution_count": 12,
   "id": "688c5dcb",
   "metadata": {
    "ExecuteTime": {
     "end_time": "2022-11-09T12:58:50.629362Z",
     "start_time": "2022-11-09T12:58:50.464342Z"
    }
   },
   "outputs": [
    {
     "name": "stdout",
     "output_type": "stream",
     "text": [
      "Created a Data frame with length 35\n"
     ]
    }
   ],
   "source": [
    "importlib.reload(dn)\n",
    "C_list = np.array([400])\n",
    "n = len(C_list)\n",
    "lengths = np.array([48502]*n)\n",
    "df = dn.create_DNA_df(N_bp=lengths, C_list=C_list, perform_rounding=False)\n",
    "\n",
    "df_lambda = df[(df['staining'] == '1:200')]\n",
    "df_lambda = df_lambda.reset_index()\n",
    "# indices = [0,1,2,3,4,5,22,10,28]\n",
    "# df_lambda = df_lambda.iloc[indices]\n",
    "\n",
    "pd.set_option('display.float_format', lambda x: '%.3g' % x)\n",
    "# df_lambda[['conc_DNA','salt','I', 'L' 'l_p','w_eff_T23C','R_e_Flory_T23C','R_g_Flory_T23C','c_overlap_Flory_T23C', 'tau_zimm_low_c','C_ratio_Flory']]"
   ]
  },
  {
   "cell_type": "markdown",
   "id": "a430c82b",
   "metadata": {},
   "source": [
    "### Lambda DNA without BME, staining 1:200"
   ]
  },
  {
   "cell_type": "code",
   "execution_count": 15,
   "id": "a4c8b4ee",
   "metadata": {
    "ExecuteTime": {
     "end_time": "2022-11-09T12:59:04.641873Z",
     "start_time": "2022-11-09T12:59:04.494877Z"
    }
   },
   "outputs": [
    {
     "name": "stdout",
     "output_type": "stream",
     "text": [
      "Created a Data frame with length 5\n"
     ]
    },
    {
     "data": {
      "text/html": [
       "<div>\n",
       "<style scoped>\n",
       "    .dataframe tbody tr th:only-of-type {\n",
       "        vertical-align: middle;\n",
       "    }\n",
       "\n",
       "    .dataframe tbody tr th {\n",
       "        vertical-align: top;\n",
       "    }\n",
       "\n",
       "    .dataframe thead th {\n",
       "        text-align: right;\n",
       "    }\n",
       "</style>\n",
       "<table border=\"1\" class=\"dataframe\">\n",
       "  <thead>\n",
       "    <tr style=\"text-align: right;\">\n",
       "      <th></th>\n",
       "      <th>conc_DNA</th>\n",
       "      <th>L</th>\n",
       "      <th>I</th>\n",
       "      <th>l_p</th>\n",
       "      <th>w_eff_T23C</th>\n",
       "      <th>R_e_T23C_Flory</th>\n",
       "      <th>R_g_T23C_Flory</th>\n",
       "      <th>c_overlap_T23C_Flory</th>\n",
       "      <th>tau_zimm_low_c</th>\n",
       "      <th>C_ratio_Flory</th>\n",
       "    </tr>\n",
       "  </thead>\n",
       "  <tbody>\n",
       "    <tr>\n",
       "      <th>0</th>\n",
       "      <td>400</td>\n",
       "      <td>16.61</td>\n",
       "      <td>0.03099</td>\n",
       "      <td>51</td>\n",
       "      <td>5.79</td>\n",
       "      <td>1.22</td>\n",
       "      <td>0.5</td>\n",
       "      <td>102</td>\n",
       "      <td>2.063</td>\n",
       "      <td>3.921</td>\n",
       "    </tr>\n",
       "  </tbody>\n",
       "</table>\n",
       "</div>"
      ],
      "text/plain": [
       "   conc_DNA     L       I  l_p  w_eff_T23C  R_e_T23C_Flory  R_g_T23C_Flory  \\\n",
       "0       400 16.61 0.03099   51        5.79            1.22             0.5   \n",
       "\n",
       "   c_overlap_T23C_Flory  tau_zimm_low_c  C_ratio_Flory  \n",
       "0                   102           2.063          3.921  "
      ]
     },
     "execution_count": 15,
     "metadata": {},
     "output_type": "execute_result"
    }
   ],
   "source": [
    "importlib.reload(dn)\n",
    "C_list = np.array([400])\n",
    "n = len(C_list)\n",
    "lengths = np.array([48502]*n)\n",
    "I_list = np.array([30.993*1e-3]) #I_5xTE_0BME\n",
    "df = dn.create_DNA_df(N_bp=lengths, C_list=C_list, I_list=I_list)\n",
    "\n",
    "df_lambda = df[(df['staining'] == '1:200')]\n",
    "df_lambda = df_lambda.reset_index()\n",
    "# indices = [0,1,2,3,4,5,22,10,28]\n",
    "# df_lambda = df_lambda.iloc[indices]\n",
    "\n",
    "pd.set_option('display.float_format', lambda x: '%.4g' % x)\n",
    "df_lambda[['conc_DNA','L','I', 'l_p','w_eff_T23C','R_e_T23C_Flory','R_g_T23C_Flory','c_overlap_T23C_Flory', 'tau_zimm_low_c','C_ratio_Flory']]"
   ]
  }
 ],
 "metadata": {
  "hide_input": false,
  "kernelspec": {
   "display_name": "Python 3 (ipykernel)",
   "language": "python",
   "name": "python3"
  },
  "language_info": {
   "codemirror_mode": {
    "name": "ipython",
    "version": 3
   },
   "file_extension": ".py",
   "mimetype": "text/x-python",
   "name": "python",
   "nbconvert_exporter": "python",
   "pygments_lexer": "ipython3",
   "version": "3.8.3"
  },
  "toc": {
   "base_numbering": 1,
   "nav_menu": {},
   "number_sections": true,
   "sideBar": true,
   "skip_h1_title": true,
   "title_cell": "Table of Contents",
   "title_sidebar": "Contents",
   "toc_cell": true,
   "toc_position": {},
   "toc_section_display": true,
   "toc_window_display": false
  },
  "varInspector": {
   "cols": {
    "lenName": 16,
    "lenType": 16,
    "lenVar": 40
   },
   "kernels_config": {
    "python": {
     "delete_cmd_postfix": "",
     "delete_cmd_prefix": "del ",
     "library": "var_list.py",
     "varRefreshCmd": "print(var_dic_list())"
    },
    "r": {
     "delete_cmd_postfix": ") ",
     "delete_cmd_prefix": "rm(",
     "library": "var_list.r",
     "varRefreshCmd": "cat(var_dic_list()) "
    }
   },
   "types_to_exclude": [
    "module",
    "function",
    "builtin_function_or_method",
    "instance",
    "_Feature"
   ],
   "window_display": false
  }
 },
 "nbformat": 4,
 "nbformat_minor": 5
}
